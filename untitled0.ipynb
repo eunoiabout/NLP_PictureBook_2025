{
  "nbformat": 4,
  "nbformat_minor": 0,
  "metadata": {
    "colab": {
      "provenance": [],
      "authorship_tag": "ABX9TyMgsO/uLebS2Hh1LQeC+98U",
      "include_colab_link": true
    },
    "kernelspec": {
      "name": "python3",
      "display_name": "Python 3"
    },
    "language_info": {
      "name": "python"
    }
  },
  "cells": [
    {
      "cell_type": "markdown",
      "metadata": {
        "id": "view-in-github",
        "colab_type": "text"
      },
      "source": [
        "<a href=\"https://colab.research.google.com/github/eunoiabout/NLP_PictureBook_2025/blob/main/untitled0.ipynb\" target=\"_parent\"><img src=\"https://colab.research.google.com/assets/colab-badge.svg\" alt=\"Open In Colab\"/></a>"
      ]
    },
    {
      "cell_type": "markdown",
      "source": [
        "# **🎇판타지 영어그림책**\n",
        "# Fantasy English picture book\n",
        "Creator L.Frank Baum, George MacDonald\n",
        "\n",
        "L.Frank Baum\n",
        "- The Tin Woodman of Oz\n",
        "- The Marvelous Land of Oz\n",
        "- The Wonderful Wizard of Oz\n",
        "\n",
        "George MacDonald\n",
        "- The Princess and the Goblin\n",
        "- Dorothy and the Wizard in Oz\n",
        "- The Light Princess\n"
      ],
      "metadata": {
        "id": "UKu9zpzm-2XV"
      }
    },
    {
      "cell_type": "code",
      "execution_count": null,
      "metadata": {
        "id": "FVXvHE2G-1Oa"
      },
      "outputs": [],
      "source": []
    }
  ]
}